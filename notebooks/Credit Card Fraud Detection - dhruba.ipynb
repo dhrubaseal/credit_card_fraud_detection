{
 "cells": [
  {
   "cell_type": "code",
   "execution_count": null,
   "metadata": {},
   "outputs": [],
   "source": [
    "# Import pandas for data manipulation and analysis\n",
    "import pandas as pd\n",
    "\n",
    "# Import matplotlib's pyplot for creating plots\n",
    "import matplotlib.pyplot as plt\n",
    "\n",
    "# Import functions and classes from scikit-learn\n",
    "from sklearn.model_selection import train_test_split\n",
    "from sklearn.linear_model import LogisticRegression\n",
    "from sklearn.metrics import roc_auc_score, roc_curve"
   ]
  },
  {
   "cell_type": "code",
   "execution_count": null,
   "metadata": {},
   "outputs": [],
   "source": [
    "# Define the file path to the dataset\n",
    "file_path = 'Dataset\\creditcard.csv'  # Replace with the actual path to your dataset\n",
    "\n",
    "# Load the credit card dataset using pandas\n",
    "credit_card_df = pd.read_csv(file_path)\n",
    "\n",
    "# Display the first few rows of the dataset\n",
    "credit_card_df.head()"
   ]
  },
  {
   "cell_type": "markdown",
   "metadata": {},
   "source": [
    "Data Pre-Processing"
   ]
  },
  {
   "cell_type": "code",
   "execution_count": null,
   "metadata": {},
   "outputs": [],
   "source": [
    "# Calculate the number of missing values in each column of the credit_card_df DataFrame\n",
    "missing_values = credit_card_df.isnull().sum()\n",
    "\n",
    "# Print the results\n",
    "print(missing_values)"
   ]
  },
  {
   "cell_type": "code",
   "execution_count": null,
   "metadata": {},
   "outputs": [],
   "source": [
    "# Get the list of column names in the credit_card_df DataFrame\n",
    "credit_card_df_columns = credit_card_df.columns\n",
    "\n",
    "# Iterate through each column and print the number of unique values\n",
    "for column_name in credit_card_df_columns:\n",
    "    unique_values_count = len(credit_card_df[column_name].unique())\n",
    "    print(f\"Column '{column_name}' has {unique_values_count} unique values.\")"
   ]
  },
  {
   "cell_type": "code",
   "execution_count": null,
   "metadata": {},
   "outputs": [],
   "source": [
    "# Display the first 10 rows of the credit_card_df DataFrame\n",
    "credit_card_df.head(10)"
   ]
  },
  {
   "cell_type": "code",
   "execution_count": null,
   "metadata": {},
   "outputs": [],
   "source": [
    "# Generate summary statistics for numerical columns in the credit_card_df DataFrame\n",
    "summary_statistics = credit_card_df.describe()\n",
    "\n",
    "# Display the summary statistics\n",
    "print(summary_statistics)"
   ]
  },
  {
   "cell_type": "code",
   "execution_count": null,
   "metadata": {},
   "outputs": [],
   "source": [
    "# Converting Time Column\n",
    "\n",
    "# Convert the 'Time' column to a datetime format\n",
    "credit_card_df[\"datetime\"] = pd.to_datetime(credit_card_df['Time'], unit='s')\n",
    "\n",
    "# Extract the time component and format it as HH:MM:SS\n",
    "credit_card_df[\"Time\"] = credit_card_df[\"datetime\"].dt.strftime('%H:%M:%S')\n",
    "\n",
    "# Convert the 'datetime' column to HH:MM:SS format\n",
    "credit_card_df[\"datetime\"] = credit_card_df[\"datetime\"].dt.strftime('%H:%M:%S')\n",
    "\n",
    "# Drop the original 'Time' column\n",
    "credit_card_df.drop(columns=['Time'], inplace=True)\n",
    "\n",
    "# Rename the 'datetime' column to 'Time'\n",
    "credit_card_df.rename(columns={\"datetime\":\"Time\"}, inplace=True)\n",
    "\n",
    "# Display the modified DataFrame\n",
    "credit_card_df.head()"
   ]
  },
  {
   "cell_type": "code",
   "execution_count": null,
   "metadata": {},
   "outputs": [],
   "source": [
    "# Display a concise summary of the credit_card_df DataFrame\n",
    "credit_card_df.info()"
   ]
  },
  {
   "cell_type": "code",
   "execution_count": null,
   "metadata": {},
   "outputs": [],
   "source": [
    "# Calculate and print the percentage of fraud and non-fraud transactions\n",
    "\n",
    "# Calculate the percentage of fraud transactions\n",
    "fraud_percentage = round(credit_card_df['Class'].value_counts()[1] / len(credit_card_df) * 100, 2)\n",
    "print(\"Fraud! :\", fraud_percentage, \"%\")\n",
    "\n",
    "# Calculate the percentage of non-fraud transactions\n",
    "non_fraud_percentage = round(credit_card_df['Class'].value_counts()[0] / len(credit_card_df) * 100, 2)\n",
    "print(\"No Fraud! :\", non_fraud_percentage, \"%\")"
   ]
  },
  {
   "cell_type": "code",
   "execution_count": null,
   "metadata": {},
   "outputs": [],
   "source": [
    "# Separate features (x) and target (y) variables\n",
    "\n",
    "# Remove the \"Class\" and \"Time\" columns from the features (x)\n",
    "x = credit_card_df.drop(columns=[\"Class\",\"Time\"])\n",
    "\n",
    "# Get the \"Class\" column as the target (y)\n",
    "y = credit_card_df[\"Class\"]\n",
    "\n",
    "# Split the dataset into training and testing sets using train_test_split\n",
    "\n",
    "# Split the data into training and testing sets\n",
    "x_train, x_test, y_train, y_test = train_test_split(x, y, random_state=2, test_size=0.3)"
   ]
  },
  {
   "cell_type": "code",
   "execution_count": null,
   "metadata": {},
   "outputs": [],
   "source": [
    "# Initialize and train a logistic regression model\n",
    "\n",
    "# Initialize a logistic regression model with increased maximum iterations\n",
    "logistic_regression = LogisticRegression(max_iter=10000)\n",
    "\n",
    "# Train the model using the training data\n",
    "logistic_regression.fit(x_train, y_train)"
   ]
  },
  {
   "cell_type": "code",
   "execution_count": null,
   "metadata": {},
   "outputs": [],
   "source": [
    "# Generate and plot the ROC curve\n",
    "\n",
    "# Get the predicted probabilities for the positive class (fraudulent) from the model\n",
    "y_predict = logistic_regression.predict_proba(x_test)\n",
    "y_predict = y_predict[:, 1]  # Probability of being fraudulent\n",
    "\n",
    "# Calculate the ROC curve data\n",
    "fpr, tpr, _ = roc_curve(y_test, y_predict)\n",
    "\n",
    "# Plot the ROC curve\n",
    "plt.plot(fpr, tpr)"
   ]
  },
  {
   "cell_type": "code",
   "execution_count": null,
   "metadata": {},
   "outputs": [],
   "source": [
    "# Calculate the ROC AUC score\n",
    "\n",
    "# Calculate the ROC AUC score using the predicted probabilities and the actual labels\n",
    "roc_auc = roc_auc_score(y_test, y_predict)\n",
    "\n",
    "# Print the calculated ROC AUC score\n",
    "print(\"ROC AUC Score:\", roc_auc)"
   ]
  }
 ],
 "metadata": {
  "kernelspec": {
   "display_name": "Python 3",
   "language": "python",
   "name": "python3"
  },
  "language_info": {
   "codemirror_mode": {
    "name": "ipython",
    "version": 3
   },
   "file_extension": ".py",
   "mimetype": "text/x-python",
   "name": "python",
   "nbconvert_exporter": "python",
   "pygments_lexer": "ipython3",
   "version": "3.11.4"
  },
  "orig_nbformat": 4
 },
 "nbformat": 4,
 "nbformat_minor": 2
}
