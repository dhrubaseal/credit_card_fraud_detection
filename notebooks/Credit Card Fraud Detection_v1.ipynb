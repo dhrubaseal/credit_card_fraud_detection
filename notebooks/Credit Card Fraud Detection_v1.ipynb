{
 "cells": [
  {
   "cell_type": "code",
   "execution_count": null,
   "id": "f341d2ed",
   "metadata": {},
   "outputs": [],
   "source": [
    "# Import necessary libraries\n",
    "import pandas as pd\n",
    "import numpy as np\n",
    "import matplotlib.pyplot as plt\n",
    "import seaborn as sns\n",
    "from sklearn.model_selection import train_test_split\n",
    "from sklearn.preprocessing import StandardScaler\n",
    "from sklearn.ensemble import RandomForestClassifier\n",
    "from sklearn.metrics import confusion_matrix, classification_report, accuracy_score, f1_score\n",
    "from imblearn.over_sampling import SMOTE\n",
    "from sklearn.model_selection import train_test_split\n",
    "from sklearn.datasets import make_classification\n",
    "from sklearn import datasets\n",
    "from sklearn.model_selection import GridSearchCV\n",
    "from sklearn.ensemble import RandomForestClassifier"
   ]
  },
  {
   "cell_type": "code",
   "execution_count": null,
   "id": "0f80f14e",
   "metadata": {},
   "outputs": [],
   "source": [
    "# Load the dataset\n",
    "df = pd.read_csv('data/raw/creditcard.csv')"
   ]
  },
  {
   "cell_type": "code",
   "execution_count": null,
   "id": "56856bdd",
   "metadata": {},
   "outputs": [],
   "source": [
    "df"
   ]
  },
  {
   "cell_type": "code",
   "execution_count": null,
   "id": "33e2cd22",
   "metadata": {},
   "outputs": [],
   "source": [
    "df.info()"
   ]
  },
  {
   "cell_type": "code",
   "execution_count": null,
   "id": "5b12d14a",
   "metadata": {},
   "outputs": [],
   "source": [
    "df.isnull().sum()"
   ]
  },
  {
   "cell_type": "code",
   "execution_count": null,
   "id": "b018421e",
   "metadata": {},
   "outputs": [],
   "source": [
    "df.shape"
   ]
  },
  {
   "cell_type": "code",
   "execution_count": null,
   "id": "1217272e",
   "metadata": {},
   "outputs": [],
   "source": [
    "new_df = df.drop_duplicates()"
   ]
  },
  {
   "cell_type": "code",
   "execution_count": null,
   "id": "ec94c65b",
   "metadata": {},
   "outputs": [],
   "source": [
    "new_df.shape"
   ]
  },
  {
   "cell_type": "code",
   "execution_count": null,
   "id": "6c04ce1a",
   "metadata": {},
   "outputs": [],
   "source": [
    "x = new_df.drop(columns=[\"Class\",\"Time\"])\n",
    "y = new_df[\"Class\"]"
   ]
  },
  {
   "cell_type": "code",
   "execution_count": null,
   "id": "af4dffd3",
   "metadata": {},
   "outputs": [],
   "source": [
    "x.shape"
   ]
  },
  {
   "cell_type": "code",
   "execution_count": null,
   "id": "0b95df5b",
   "metadata": {},
   "outputs": [],
   "source": [
    "y.shape"
   ]
  },
  {
   "cell_type": "code",
   "execution_count": null,
   "id": "fa7a9de3",
   "metadata": {},
   "outputs": [],
   "source": [
    "# Balancing with SMOTE\n",
    "oversample = SMOTE()\n",
    "X_resampled, y_resampled = oversample.fit_resample(x,y)\n",
    "# X, y = oversample.fit_resample(df.drop('Class', axis=1), df['Class'])"
   ]
  },
  {
   "cell_type": "code",
   "execution_count": null,
   "id": "1dba88d0",
   "metadata": {},
   "outputs": [],
   "source": [
    "# Train-Test split\n",
    "X_train, X_test, y_train, y_test = train_test_split(X_resampled, y_resampled, test_size=0.2, random_state=0)\n"
   ]
  },
  {
   "cell_type": "code",
   "execution_count": null,
   "id": "2e533c8a",
   "metadata": {},
   "outputs": [],
   "source": [
    "# Feature Scaling\n",
    "scaler = StandardScaler()  \n",
    "X_train = scaler.fit_transform(X_train)\n",
    "X_test = scaler.transform(X_test)"
   ]
  },
  {
   "cell_type": "code",
   "execution_count": null,
   "id": "18ce3a55",
   "metadata": {},
   "outputs": [],
   "source": [
    "# Model Building \n",
    "model = RandomForestClassifier()\n"
   ]
  },
  {
   "cell_type": "code",
   "execution_count": null,
   "id": "d2145ccb",
   "metadata": {},
   "outputs": [],
   "source": [
    "# Model Training\n",
    "model.fit(X_train, y_train)"
   ]
  },
  {
   "cell_type": "code",
   "execution_count": null,
   "id": "db25e793",
   "metadata": {},
   "outputs": [],
   "source": [
    "# Prediction\n",
    "y_pred = model.predict(X_test)"
   ]
  },
  {
   "cell_type": "code",
   "execution_count": null,
   "id": "19d64e9b",
   "metadata": {},
   "outputs": [],
   "source": [
    "# Model Evaluation\n",
    "accuracy_score(y_test, y_pred)"
   ]
  },
  {
   "cell_type": "code",
   "execution_count": null,
   "id": "05d74738",
   "metadata": {},
   "outputs": [],
   "source": [
    "f1_score(y_test, y_pred)"
   ]
  },
  {
   "cell_type": "code",
   "execution_count": null,
   "id": "2a8f9665",
   "metadata": {},
   "outputs": [],
   "source": [
    "\n",
    "params = {\n",
    "    'n_estimators': [100, 200, 500],\n",
    "    'max_depth': [10, 50, 100], \n",
    "    'min_samples_split': [2, 10, 20],\n",
    "    'min_samples_leaf': [1, 2, 5]\n",
    "}\n",
    "\n",
    "grid = GridSearchCV(RandomForestClassifier(), param_grid=params, cv=5)\n"
   ]
  },
  {
   "cell_type": "code",
   "execution_count": null,
   "id": "996a2a59",
   "metadata": {},
   "outputs": [],
   "source": [
    "grid.fit(X_train, y_train)"
   ]
  },
  {
   "cell_type": "code",
   "execution_count": null,
   "id": "b745bde2",
   "metadata": {},
   "outputs": [],
   "source": [
    "grid.best_params_"
   ]
  },
  {
   "cell_type": "code",
   "execution_count": null,
   "id": "efc0a48a",
   "metadata": {},
   "outputs": [],
   "source": [
    "# Model Improvement \n",
    "\n",
    "# Try XGBoost classifier\n",
    "from xgboost import XGBClassifier\n",
    "xgb = XGBClassifier()\n",
    "xgb.fit(X_train, y_train)\n",
    "print(xgb.score(X_test, y_test))\n",
    "\n",
    "# SMOTE handling class imbalance\n",
    "from imblearn.over_sampling import SMOTE \n",
    "oversample = SMOTE()\n",
    "X_sm, y_sm = oversample.fit_resample(X, y)\n",
    "\n",
    "# Feature Selection\n",
    "from sklearn.feature_selection import RFECV\n",
    "selector = RFECV(RandomForestClassifier())\n",
    "selector.fit(X_sm, y_sm)\n",
    "X_reduced = selector.transform(X_sm)\n",
    "\n",
    "# Stacked Model\n",
    "from sklearn.ensemble import StackingClassifier\n",
    "rf = RandomForestClassifier()\n",
    "xgb = XGBClassifier()\n",
    "stack = StackingClassifier(estimators=[('rf', rf), ('xgb', xgb)])\n",
    "stack.fit(X_reduced, y_sm)"
   ]
  },
  {
   "cell_type": "code",
   "execution_count": null,
   "id": "20b9d975",
   "metadata": {},
   "outputs": [],
   "source": [
    "# Model Artifact\n",
    "import pickle\n",
    "pickle.dump(model, open('rf_model.pkl', 'wb')) \n",
    "\n",
    "# Flask App\n",
    "from flask import Flask, request, jsonify\n",
    "app = Flask(__name__)\n",
    "\n",
    "@app.route('/predict', methods=['POST'])  \n",
    "def predict():\n",
    "    data = request.get_json() \n",
    "    # preprocessing\n",
    "    \n",
    "    prediction = model.predict(data) \n",
    "    return jsonify({'prediction': prediction})\n",
    "\n",
    "if __name__ == '__main__':\n",
    "    app.run(debug=True, host='0.0.0.0', port=9696) \n",
    "\n",
    "# Dockerfile\n",
    "FROM python:3.7\n",
    "COPY . /app\n",
    "WORKDIR /app\n",
    "RUN pip install -r requirements.txt\n",
    "EXPOSE 9696\n",
    "ENTRYPOINT [\"python\", \"app.py\"]\n",
    "\n",
    "# Kubernetes Deployment\n",
    "apiVersion: apps/v1\n",
    "kind: Deployment\n",
    "metadata:\n",
    "  name: fraud-deployment\n",
    "spec:\n",
    "  replicas: 3\n",
    "  selector:\n",
    "    matchLabels:\n",
    "      app: fraud\n",
    "  template:\n",
    "    metadata:\n",
    "      labels:\n",
    "        app: fraud\n",
    "    spec:\n",
    "      containers:\n",
    "      - name: fraud-model\n",
    "        image: fraud_image\n",
    "        ports:\n",
    "        - containerPort: 9696\n",
    "        \n",
    "# Horizontal Pod Autoscaler \n",
    "apiVersion: autoscaling/v1\n",
    "kind: HorizontalPodAutoscaler\n",
    "metadata:\n",
    "  name: fraud-hpa\n",
    "spec:\n",
    "  scaleTargetRef:\n",
    "    apiVersion: apps/v1\n",
    "    kind: Deployment\n",
    "    name: fraud-deployment\n",
    "  minReplicas: 3\n",
    "  maxReplicas: 10\n",
    "  targetCPUUtilizationPercentage: 50"
   ]
  }
 ],
 "metadata": {
  "kernelspec": {
   "display_name": ".venv",
   "language": "python",
   "name": "python3"
  },
  "language_info": {
   "codemirror_mode": {
    "name": "ipython",
    "version": 3
   },
   "file_extension": ".py",
   "mimetype": "text/x-python",
   "name": "python",
   "nbconvert_exporter": "python",
   "pygments_lexer": "ipython3",
   "version": "3.9.13"
  }
 },
 "nbformat": 4,
 "nbformat_minor": 5
}
